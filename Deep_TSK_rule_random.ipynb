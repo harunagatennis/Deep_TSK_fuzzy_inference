{
 "cells": [
  {
   "cell_type": "code",
   "execution_count": 807,
   "id": "1205b9d0-0bcc-44e4-9518-d1e081392745",
   "metadata": {},
   "outputs": [],
   "source": [
    "#全データに対応できる汎用的なモデルを作成する\n",
    "#深層TSKファジィ推論モデル(0次元の積層構造）について示す\n",
    "#深層TSKファジィ推論モデル（０次元の積層構造）について、特徴量選択はランダムで行うが、ルール選択をランダムで行うか全て網羅すべきかを考える\n",
    "#ここではルール選択をランダムで行う場合を考える\n",
    "#とりあえずは学習回数の上限で学習をストップする考えで行う\n",
    "import numpy as np\n",
    "import pandas as pd\n",
    "import random\n",
    "import math\n",
    "import sys\n",
    "import time\n",
    "\n",
    "#あらかじめ深層学習の層数を設定しておく\n",
    "NUMBER_OF_LAYER = 3"
   ]
  },
  {
   "cell_type": "code",
   "execution_count": 808,
   "id": "bff1b543-2866-4837-89d6-3b439c1385a1",
   "metadata": {},
   "outputs": [],
   "source": [
    "#各種データを読み込み、読み込んだデータに対して正規化を行う\n",
    "#そしてnumpy配列に変換しておく\n",
    "original_data = pd.read_csv('fuzzy_diabetes2_1.csv')\n",
    "\n",
    "#まず例外カラム名の制定\n",
    "#for clm in original_data.columns:\n",
    "    #if clm not in exception_columns:\n",
    "        #original_data[clm] = (original_data[clm] - original_data[clm].min()) / (original_data[clm].max() - original_data[clm].min())\n",
    "\n",
    "\n",
    "np_original_data = np.array(original_data)"
   ]
  },
  {
   "cell_type": "code",
   "execution_count": 809,
   "id": "efb8ffae-2e1c-41f6-84ad-1111e6afb8ee",
   "metadata": {},
   "outputs": [],
   "source": [
    "#元データの入力データと出力データの合計の属性数を求める\n",
    "#また入力変数の属性数を求めるが、ここでは出力変数の属性数が1であることを仮定している\n",
    "NUMBER_OF_INPUT_OUTPUT = len(teacher_data[0,:])\n",
    "NUMBER_OF_INPUT = NUMBER_OF_INPUT_OUTPUT - 1\n",
    "\n",
    "#またファジィ分割数を求める\n",
    "#ここではファジィ分割数・ファジィルール数は各層で同じであると仮定する\n",
    "NUMBER_OF_FUZZY_PARTITION = 3\n",
    "NUMBER_OF_FUZZY_RULE = 8\n",
    "\n",
    "#次に各層における入力属性の候補数を設定する\n",
    "NUMBER_OF_INPUT_LAYER1 = 5\n",
    "NUMBER_OF_INPUT_LAYER2 = 6 #ただし、1層目の出力は確定で入力変数として扱う\n",
    "NUMBER_OF_INPUT_LAYER3 = 7 #ただし、2層目の出力は確定で入力変数として扱う"
   ]
  },
  {
   "cell_type": "code",
   "execution_count": 810,
   "id": "0dc8daf8-545e-4d64-9fee-63a016603271",
   "metadata": {},
   "outputs": [],
   "source": [
    "#教師データ数とテストデータ数を決定する\n",
    "TEACHER_SIZE_RATIO = 5\n",
    "TEST_SIZE_RATIO = 5\n",
    "DATA_SIZE = len(np_original_data)\n",
    "TEACHER_SIZE = ((int)(len(np_original_data) * ((TEACHER_SIZE_RATIO) / (TEACHER_SIZE_RATIO + TEST_SIZE_RATIO)))) + 1\n",
    "TEST_SIZE = len(np_original_data) - TEACHER_SIZE"
   ]
  },
  {
   "cell_type": "code",
   "execution_count": 811,
   "id": "cf0f5244-4609-46b8-bd97-9c1ed4e5f31b",
   "metadata": {},
   "outputs": [],
   "source": [
    "#1層目で用いる教師データを作成する\n",
    "#テストデータはテスト時に作成する\n",
    "teacher_input_layer1 = np_original_data[:TEACHER_SIZE, :NUMBER_OF_INPUT]\n",
    "teacher_output_layer1 = np_original_data[:TEACHER_SIZE, NUMBER_OF_INPUT]"
   ]
  },
  {
   "cell_type": "code",
   "execution_count": 812,
   "id": "97fd0a07-090b-422c-b0a2-7965c64c264b",
   "metadata": {
    "collapsed": true,
    "jupyter": {
     "outputs_hidden": true
    },
    "tags": []
   },
   "outputs": [
    {
     "name": "stdout",
     "output_type": "stream",
     "text": [
      "[[0. 0. 0. 1. 1.]\n",
      " [0. 1. 0. 1. 1.]\n",
      " [1. 1. 1. 0. 1.]\n",
      " [0. 1. 1. 0. 0.]\n",
      " [0. 0. 1. 0. 0.]\n",
      " [0. 0. 0. 1. 0.]\n",
      " [0. 0. 0. 1. 1.]\n",
      " [0. 0. 0. 0. 1.]]\n",
      "[[[0. 1. 0.]\n",
      "  [1. 0. 0.]\n",
      "  [1. 0. 0.]\n",
      "  [0. 0. 1.]\n",
      "  [1. 0. 0.]]\n",
      "\n",
      " [[0. 0. 1.]\n",
      "  [0. 1. 0.]\n",
      "  [1. 0. 0.]\n",
      "  [0. 0. 1.]\n",
      "  [0. 1. 0.]]\n",
      "\n",
      " [[1. 0. 0.]\n",
      "  [0. 0. 1.]\n",
      "  [1. 0. 0.]\n",
      "  [0. 0. 1.]\n",
      "  [1. 0. 0.]]\n",
      "\n",
      " [[1. 0. 0.]\n",
      "  [0. 1. 0.]\n",
      "  [0. 0. 1.]\n",
      "  [1. 0. 0.]\n",
      "  [0. 0. 1.]]\n",
      "\n",
      " [[0. 0. 1.]\n",
      "  [0. 1. 0.]\n",
      "  [0. 0. 1.]\n",
      "  [0. 1. 0.]\n",
      "  [0. 1. 0.]]\n",
      "\n",
      " [[0. 0. 1.]\n",
      "  [0. 0. 1.]\n",
      "  [0. 0. 1.]\n",
      "  [0. 0. 1.]\n",
      "  [0. 0. 1.]]\n",
      "\n",
      " [[0. 1. 0.]\n",
      "  [1. 0. 0.]\n",
      "  [0. 0. 1.]\n",
      "  [0. 0. 1.]\n",
      "  [0. 0. 1.]]\n",
      "\n",
      " [[1. 0. 0.]\n",
      "  [1. 0. 0.]\n",
      "  [1. 0. 0.]\n",
      "  [1. 0. 0.]\n",
      "  [0. 0. 1.]]]\n"
     ]
    }
   ],
   "source": [
    "#1層目で用いる特徴量選択行列とルール結合行列を決定する\n",
    "features_selection_matrix_layer1 = np.empty((NUMBER_OF_FUZZY_RULE, NUMBER_OF_INPUT_LAYER1))\n",
    "for i in range(NUMBER_OF_FUZZY_RULE):\n",
    "    while True:\n",
    "        for j in range(NUMBER_OF_INPUT_LAYER1):\n",
    "            if random.random() < 0.5:\n",
    "                features_selection_matrix_layer1[i,j] = 0\n",
    "            else:\n",
    "                features_selection_matrix_layer1[i,j] = 1\n",
    "        if 1 in features_selection_matrix_layer1[i,:]:\n",
    "            break\n",
    "#次にルール結合行列を設定する\n",
    "rule_combination_matrix_layer1 = np.zeros((NUMBER_OF_FUZZY_RULE, NUMBER_OF_INPUT_LAYER1, NUMBER_OF_FUZZY_PARTITION))\n",
    "rule_partition_random = [1, 2, 3]\n",
    "for i in range(NUMBER_OF_FUZZY_RULE):\n",
    "    for j in range(NUMBER_OF_INPUT_LAYER1):\n",
    "        if (random.choice(rule_partition_random) == 1):\n",
    "            rule_combination_matrix_layer1[i,j,0] = 1\n",
    "        elif(random.choice(rule_partition_random) == 2):\n",
    "            rule_combination_matrix_layer1[i,j,1] = 1\n",
    "        else:\n",
    "            rule_combination_matrix_layer1[i,j,2] = 1\n",
    "print(features_selection_matrix_layer1)\n",
    "print(rule_combination_matrix_layer1)"
   ]
  },
  {
   "cell_type": "code",
   "execution_count": 813,
   "id": "8372a21e-c7e0-414b-8859-19437f511033",
   "metadata": {
    "collapsed": true,
    "jupyter": {
     "outputs_hidden": true
    },
    "tags": []
   },
   "outputs": [
    {
     "data": {
      "text/plain": [
       "array([[0.5, 0. , 0. , 1. , 0. ],\n",
       "       [1. , 0.5, 0. , 1. , 0.5],\n",
       "       [0. , 1. , 0. , 1. , 0. ],\n",
       "       [0. , 0.5, 1. , 0. , 1. ],\n",
       "       [1. , 0.5, 1. , 0.5, 0.5],\n",
       "       [1. , 1. , 1. , 1. , 1. ],\n",
       "       [0.5, 0. , 1. , 1. , 1. ],\n",
       "       [0. , 0. , 0. , 0. , 1. ]])"
      ]
     },
     "execution_count": 813,
     "metadata": {},
     "output_type": "execute_result"
    }
   ],
   "source": [
    "#前件部と後件部の初期値を設定する\n",
    "#まずは一層目に対する前件部と後件部の初期値を設定する\n",
    "antecedent_center_layer1 = np.empty((NUMBER_OF_FUZZY_RULE, NUMBER_OF_INPUT_LAYER1))\n",
    "antecedent_broad_layer1 = np.empty((NUMBER_OF_FUZZY_RULE, NUMBER_OF_INPUT_LAYER1))\n",
    "consequent_layer1 = np.empty(NUMBER_OF_FUZZY_RULE)\n",
    "\n",
    "#まずは後件部実数値の初期設定を行う\n",
    "#このプログラムでは後件部は0次式で表している\n",
    "for i in range(NUMBER_OF_FUZZY_RULE):\n",
    "    consequent_layer1[i] = 0.5\n",
    "#前件部を初期設定する\n",
    "for i in range(NUMBER_OF_FUZZY_RULE):\n",
    "    for j in range(NUMBER_OF_INPUT_LAYER1):\n",
    "        if rule_combination_matrix_layer1[i,j,0] == 1:\n",
    "            antecedent_center_layer1[i,j] = 0\n",
    "            antecedent_broad_layer1[i,j] = 1\n",
    "        elif rule_combination_matrix_layer1[i,j,1] == 1:\n",
    "            antecedent_center_layer1[i,j] = 0.5\n",
    "            antecedent_broad_layer1[i,j] = 0.5\n",
    "        else:\n",
    "            antecedent_center_layer1[i,j] = 1\n",
    "            antecedent_broad_layer1[i,j] = 1\n",
    "antecedent_center_layer1"
   ]
  },
  {
   "cell_type": "code",
   "execution_count": 814,
   "id": "0bc644dd-475e-4e9d-8f61-a60565a94da8",
   "metadata": {
    "collapsed": true,
    "jupyter": {
     "outputs_hidden": true
    },
    "tags": []
   },
   "outputs": [
    {
     "name": "stdout",
     "output_type": "stream",
     "text": [
      "平均二条誤差\n",
      "0.11603788285373778\n",
      "Wall time: 3.05 s\n"
     ]
    }
   ],
   "source": [
    "%%time\n",
    "#1層目の学習を行う\n",
    "#前件部の学習は行わず、後件部の学習のみを行う\n",
    "\n",
    "#学習回数、学習係数を設定する\n",
    "TRAIN_TIME = 1000\n",
    "LEARNING_CONSEQUENT = 0.0001\n",
    "\n",
    "#平均二条誤差を設定する\n",
    "mean_squared_error_layer1 = 0\n",
    "\n",
    "#適合度・メンバシップ関数値を初期化する\n",
    "adaptability = np.ones((TEACHER_SIZE, NUMBER_OF_FUZZY_RULE))\n",
    "membership_function = np.ones((TEACHER_SIZE, NUMBER_OF_FUZZY_RULE, NUMBER_OF_INPUT_LAYER1))\n",
    "\n",
    "for i in range(TEACHER_SIZE):\n",
    "    for j in range(NUMBER_OF_FUZZY_RULE):\n",
    "        for k in range(NUMBER_OF_INPUT_LAYER1):\n",
    "            if(teacher_input_layer1[i,k] >= antecedent_center_layer1[j,k] - antecedent_broad_layer1[j,k]) and (teacher_input_layer1[i,k] <= antecedent_center_layer1[j,k]) and (features_selection_matrix_layer1[j,k] == 1):\n",
    "                membership_function[i,j,k] = (teacher_input_layer1[i,k] - (antecedent_center_layer1[j,k] - antecedent_broad_layer1[j,k])) / antecedent_broad_layer1[j,k]\n",
    "            elif(teacher_input_layer1[i,k] > antecedent_center_layer1[j,k]) and (teacher_input_layer1[i,k] <= antecedent_center_layer1[j,k] + antecedent_broad_layer1[j,k]) and (features_selection_matrix_layer1[j,k] == 1):\n",
    "                membership_function[i,j,k] = -(teacher_input_layer1[i,k] - (antecedent_center_layer1[j,k] + antecedent_broad_layer1[j,k])) / antecedent_broad_layer1[j,k]\n",
    "        for k in range(NUMBER_OF_INPUT_LAYER1):\n",
    "            adaptability[i,j] = adaptability[i,j] * membership_function[i,j,k]\n",
    "for time in range(TRAIN_TIME):\n",
    "    #各データの予測結果を格納する\n",
    "    output_layer1 = np.empty(TEACHER_SIZE)\n",
    "    for i in range(TEACHER_SIZE):\n",
    "        #各データの予測結果を求める\n",
    "        output_layer1[i] = np.sum(np.dot(adaptability[i], consequent_layer1)) / np.sum(adaptability[i])\n",
    "        if(time == TRAIN_TIME - 1):\n",
    "            mean_squared_error_layer1 = mean_squared_error_layer1 + (output_layer1[i] - teacher_output_layer1[i]) ** 2\n",
    "            if(i == TEACHER_SIZE - 1):\n",
    "                mean_squared_error_layer1 = mean_squared_error_layer1 / TEACHER_SIZE\n",
    "                print('平均二条誤差')\n",
    "                print(mean_squared_error_layer1)\n",
    "        #出力を求めた後、後件部を更新する\n",
    "        for j in range(NUMBER_OF_FUZZY_RULE):\n",
    "            consequent_layer1[j] = consequent_layer1[j] + (LEARNING_CONSEQUENT * adaptability[i,j] / np.sum(adaptability[i])) * (teacher_output_layer1[i] - output_layer1[i])"
   ]
  },
  {
   "cell_type": "code",
   "execution_count": 815,
   "id": "cea80d25-2cc1-464b-9ea9-ed86bded06c0",
   "metadata": {},
   "outputs": [],
   "source": [
    "#2層目で用いる教師データを作成する\n",
    "#具体的には1層目で用いた教師データに1層目の出力を追加する\n",
    "teacher_input_layer2 = np.insert(teacher_input_layer1, NUMBER_OF_INPUT, output_layer1, axis=1)\n",
    "teacher_output_layer2 = np.array(teacher_output_layer1)"
   ]
  },
  {
   "cell_type": "code",
   "execution_count": 816,
   "id": "2a559639-2464-4be0-b60d-b9f8b11162f3",
   "metadata": {
    "collapsed": true,
    "jupyter": {
     "outputs_hidden": true
    },
    "tags": []
   },
   "outputs": [
    {
     "name": "stdout",
     "output_type": "stream",
     "text": [
      "[[1. 1. 0. 0. 0. 1.]\n",
      " [1. 1. 0. 0. 1. 1.]\n",
      " [0. 0. 0. 0. 0. 1.]\n",
      " [0. 0. 0. 1. 0. 1.]\n",
      " [1. 0. 0. 0. 0. 1.]\n",
      " [1. 0. 1. 1. 0. 1.]\n",
      " [0. 1. 1. 1. 1. 1.]\n",
      " [1. 0. 0. 1. 0. 1.]]\n",
      "[[[0. 0. 1.]\n",
      "  [0. 0. 1.]\n",
      "  [0. 1. 0.]\n",
      "  [0. 1. 0.]\n",
      "  [0. 0. 1.]\n",
      "  [0. 0. 1.]]\n",
      "\n",
      " [[0. 0. 1.]\n",
      "  [1. 0. 0.]\n",
      "  [1. 0. 0.]\n",
      "  [1. 0. 0.]\n",
      "  [0. 1. 0.]\n",
      "  [0. 0. 1.]]\n",
      "\n",
      " [[1. 0. 0.]\n",
      "  [1. 0. 0.]\n",
      "  [1. 0. 0.]\n",
      "  [1. 0. 0.]\n",
      "  [0. 0. 1.]\n",
      "  [0. 1. 0.]]\n",
      "\n",
      " [[1. 0. 0.]\n",
      "  [0. 0. 1.]\n",
      "  [0. 1. 0.]\n",
      "  [0. 1. 0.]\n",
      "  [0. 1. 0.]\n",
      "  [0. 0. 1.]]\n",
      "\n",
      " [[0. 1. 0.]\n",
      "  [0. 0. 1.]\n",
      "  [0. 1. 0.]\n",
      "  [0. 0. 1.]\n",
      "  [1. 0. 0.]\n",
      "  [0. 0. 1.]]\n",
      "\n",
      " [[1. 0. 0.]\n",
      "  [0. 1. 0.]\n",
      "  [0. 0. 1.]\n",
      "  [1. 0. 0.]\n",
      "  [0. 0. 1.]\n",
      "  [1. 0. 0.]]\n",
      "\n",
      " [[1. 0. 0.]\n",
      "  [1. 0. 0.]\n",
      "  [0. 0. 1.]\n",
      "  [0. 0. 1.]\n",
      "  [0. 0. 1.]\n",
      "  [0. 0. 1.]]\n",
      "\n",
      " [[0. 1. 0.]\n",
      "  [1. 0. 0.]\n",
      "  [1. 0. 0.]\n",
      "  [0. 0. 1.]\n",
      "  [1. 0. 0.]\n",
      "  [1. 0. 0.]]]\n"
     ]
    }
   ],
   "source": [
    "#2層目で用いる特徴量選択行列とルール結合行列を作成する\n",
    "features_selection_matrix_layer2 = np.empty((NUMBER_OF_FUZZY_RULE, NUMBER_OF_INPUT_LAYER2))\n",
    "for i in range(NUMBER_OF_FUZZY_RULE):\n",
    "    while True:\n",
    "        for j in range(NUMBER_OF_INPUT_LAYER2-1):\n",
    "            if random.random() < 0.5:\n",
    "                features_selection_matrix_layer2[i,j] = 0\n",
    "            else:\n",
    "                features_selection_matrix_layer2[i,j] = 1\n",
    "        if 1 in features_selection_matrix_layer2[i,:]:\n",
    "            break\n",
    "#さらにここで2層目の特徴量には必ず1層目の出力を用いる\n",
    "features_selection_matrix_layer2[:, NUMBER_OF_INPUT_LAYER2-1] = 1\n",
    "#次にルール結合行列を設定する\n",
    "rule_combination_matrix_layer2 = np.zeros((NUMBER_OF_FUZZY_RULE, NUMBER_OF_INPUT_LAYER2, NUMBER_OF_FUZZY_PARTITION))\n",
    "rule_partition_random = [1, 2, 3]\n",
    "for i in range(NUMBER_OF_FUZZY_RULE):\n",
    "    for j in range(NUMBER_OF_INPUT_LAYER2):\n",
    "        if (random.choice(rule_partition_random) == 1):\n",
    "            rule_combination_matrix_layer2[i,j,0] = 1\n",
    "        elif(random.choice(rule_partition_random) == 2):\n",
    "            rule_combination_matrix_layer2[i,j,1] = 1\n",
    "        else:\n",
    "            rule_combination_matrix_layer2[i,j,2] = 1\n",
    "print(features_selection_matrix_layer2)\n",
    "print(rule_combination_matrix_layer2)"
   ]
  },
  {
   "cell_type": "code",
   "execution_count": 817,
   "id": "09c27010-f2c5-47fb-a524-4d36d8f943ef",
   "metadata": {
    "collapsed": true,
    "jupyter": {
     "outputs_hidden": true
    },
    "tags": []
   },
   "outputs": [
    {
     "data": {
      "text/plain": [
       "array([[1. , 1. , 0.5, 0.5, 1. , 1. ],\n",
       "       [1. , 0. , 0. , 0. , 0.5, 1. ],\n",
       "       [0. , 0. , 0. , 0. , 1. , 0.5],\n",
       "       [0. , 1. , 0.5, 0.5, 0.5, 1. ],\n",
       "       [0.5, 1. , 0.5, 1. , 0. , 1. ],\n",
       "       [0. , 0.5, 1. , 0. , 1. , 0. ],\n",
       "       [0. , 0. , 1. , 1. , 1. , 1. ],\n",
       "       [0.5, 0. , 0. , 1. , 0. , 0. ]])"
      ]
     },
     "execution_count": 817,
     "metadata": {},
     "output_type": "execute_result"
    }
   ],
   "source": [
    "#2層目で用いる前件部と後件部の値の初期設定を行う\n",
    "antecedent_center_layer2 = np.empty((NUMBER_OF_FUZZY_RULE, NUMBER_OF_INPUT_LAYER2))\n",
    "antecedent_broad_layer2 = np.empty((NUMBER_OF_FUZZY_RULE, NUMBER_OF_INPUT_LAYER2))\n",
    "consequent_layer2 = np.empty(NUMBER_OF_FUZZY_RULE)\n",
    "\n",
    "#まずは後件部実数値の初期設定を行う\n",
    "#このプログラムでは後件部は0次式で表している\n",
    "for i in range(NUMBER_OF_FUZZY_RULE):\n",
    "    consequent_layer2[i] = 0.5\n",
    "#前件部を初期設定する\n",
    "for i in range(NUMBER_OF_FUZZY_RULE):\n",
    "    for j in range(NUMBER_OF_INPUT_LAYER2):\n",
    "        if rule_combination_matrix_layer2[i,j,0] == 1:\n",
    "            antecedent_center_layer2[i,j] = 0\n",
    "            antecedent_broad_layer2[i,j] = 1\n",
    "        elif rule_combination_matrix_layer2[i,j,1] == 1:\n",
    "            antecedent_center_layer2[i,j] = 0.5\n",
    "            antecedent_broad_layer2[i,j] = 0.5\n",
    "        else:\n",
    "            antecedent_center_layer2[i,j] = 1\n",
    "            antecedent_broad_layer2[i,j] = 1\n",
    "antecedent_center_layer2"
   ]
  },
  {
   "cell_type": "code",
   "execution_count": 818,
   "id": "469a3b57-40bb-46da-bec4-c0b15de2b831",
   "metadata": {},
   "outputs": [
    {
     "name": "stdout",
     "output_type": "stream",
     "text": [
      "平均二条誤差\n",
      "0.1582461479956351\n",
      "Wall time: 3.05 s\n"
     ]
    }
   ],
   "source": [
    "%%time\n",
    "#2層目の学習を行う\n",
    "#学習回数、学習係数を設定する\n",
    "#平均二条誤差を設定する\n",
    "mean_squared_error_layer2 = 0\n",
    "\n",
    "#適合度・メンバシップ関数値を初期化する\n",
    "adaptability = np.ones((TEACHER_SIZE, NUMBER_OF_FUZZY_RULE))\n",
    "membership_function = np.ones((TEACHER_SIZE, NUMBER_OF_FUZZY_RULE, NUMBER_OF_INPUT_LAYER2))\n",
    "\n",
    "for i in range(TEACHER_SIZE):\n",
    "    for j in range(NUMBER_OF_FUZZY_RULE):\n",
    "        for k in range(NUMBER_OF_INPUT_LAYER2):\n",
    "            if(teacher_input_layer2[i,k] >= antecedent_center_layer2[j,k] - antecedent_broad_layer2[j,k]) and (teacher_input_layer2[i,k] <= antecedent_center_layer2[j,k]) and (features_selection_matrix_layer2[j,k] == 1):\n",
    "                membership_function[i,j,k] = (teacher_input_layer2[i,k] - (antecedent_center_layer2[j,k] - antecedent_broad_layer2[j,k])) / antecedent_broad_layer2[j,k]\n",
    "            elif(teacher_input_layer2[i,k] > antecedent_center_layer2[j,k]) and (teacher_input_layer2[i,k] <= antecedent_center_layer2[j,k] + antecedent_broad_layer2[j,k]) and (features_selection_matrix_layer2[j,k] == 1):\n",
    "                membership_function[i,j,k] = -(teacher_input_layer2[i,k] - (antecedent_center_layer2[j,k] + antecedent_broad_layer2[j,k])) / antecedent_broad_layer2[j,k]\n",
    "        for k in range(NUMBER_OF_INPUT_LAYER2):\n",
    "            adaptability[i,j] = adaptability[i,j] * membership_function[i,j,k]\n",
    "for time in range(TRAIN_TIME):\n",
    "    #各データの予測結果を格納する\n",
    "    output_layer2 = np.empty(TEACHER_SIZE)\n",
    "    for i in range(TEACHER_SIZE):\n",
    "        #各データの予測結果を求める\n",
    "        output_layer2[i] = np.sum(np.dot(adaptability[i], consequent_layer2)) / np.sum(adaptability[i])\n",
    "        if(time == TRAIN_TIME - 1):\n",
    "            mean_squared_error_layer2 = mean_squared_error_layer2 + (output_layer2[i] - teacher_output_layer2[i]) ** 2\n",
    "            if(i == TEACHER_SIZE - 1):\n",
    "                mean_squared_error_layer2 = mean_squared_error_layer2 / TEACHER_SIZE\n",
    "                print('平均二条誤差')\n",
    "                print(mean_squared_error_layer2)\n",
    "        #出力を求めた後、後件部を更新する\n",
    "        for j in range(NUMBER_OF_FUZZY_RULE):\n",
    "            consequent_layer2[j] = consequent_layer2[j] + (LEARNING_CONSEQUENT * adaptability[i,j] / np.sum(adaptability[i])) * (teacher_output_layer2[i] - output_layer2[i])"
   ]
  },
  {
   "cell_type": "code",
   "execution_count": 819,
   "id": "8653a6c2-bb01-4fc4-8c39-1052851969be",
   "metadata": {},
   "outputs": [],
   "source": [
    "#3層目で用いる教師データを設定する\n",
    "#具体的には2層目の出力を3層目の入力として用いる\n",
    "teacher_input_layer3 = np.insert(teacher_input_layer2, NUMBER_OF_INPUT+1, output_layer2, axis=1)\n",
    "teacher_output_layer3 = np.array(teacher_output_layer2)"
   ]
  },
  {
   "cell_type": "code",
   "execution_count": 820,
   "id": "7247341e-6ce6-4a3e-ae2d-800b5678da50",
   "metadata": {
    "collapsed": true,
    "jupyter": {
     "outputs_hidden": true
    },
    "tags": []
   },
   "outputs": [
    {
     "name": "stdout",
     "output_type": "stream",
     "text": [
      "[[0. 1. 0. 0. 1. 0. 1.]\n",
      " [1. 0. 0. 1. 1. 0. 1.]\n",
      " [0. 0. 0. 1. 0. 0. 1.]\n",
      " [0. 0. 1. 1. 0. 0. 1.]\n",
      " [1. 1. 0. 1. 0. 1. 1.]\n",
      " [1. 1. 1. 1. 0. 0. 1.]\n",
      " [1. 0. 1. 0. 1. 1. 1.]\n",
      " [1. 1. 1. 1. 0. 1. 1.]]\n",
      "[[[1. 0. 0.]\n",
      "  [1. 0. 0.]\n",
      "  [1. 0. 0.]\n",
      "  [0. 0. 1.]\n",
      "  [0. 0. 1.]\n",
      "  [1. 0. 0.]\n",
      "  [0. 0. 1.]]\n",
      "\n",
      " [[0. 0. 1.]\n",
      "  [1. 0. 0.]\n",
      "  [0. 0. 1.]\n",
      "  [0. 0. 1.]\n",
      "  [1. 0. 0.]\n",
      "  [0. 0. 1.]\n",
      "  [0. 1. 0.]]\n",
      "\n",
      " [[1. 0. 0.]\n",
      "  [0. 0. 1.]\n",
      "  [0. 0. 1.]\n",
      "  [1. 0. 0.]\n",
      "  [0. 0. 1.]\n",
      "  [0. 0. 1.]\n",
      "  [1. 0. 0.]]\n",
      "\n",
      " [[0. 0. 1.]\n",
      "  [0. 1. 0.]\n",
      "  [0. 0. 1.]\n",
      "  [1. 0. 0.]\n",
      "  [0. 0. 1.]\n",
      "  [1. 0. 0.]\n",
      "  [0. 0. 1.]]\n",
      "\n",
      " [[0. 0. 1.]\n",
      "  [1. 0. 0.]\n",
      "  [0. 1. 0.]\n",
      "  [0. 0. 1.]\n",
      "  [1. 0. 0.]\n",
      "  [0. 1. 0.]\n",
      "  [0. 0. 1.]]\n",
      "\n",
      " [[0. 1. 0.]\n",
      "  [0. 0. 1.]\n",
      "  [1. 0. 0.]\n",
      "  [0. 0. 1.]\n",
      "  [1. 0. 0.]\n",
      "  [0. 0. 1.]\n",
      "  [0. 1. 0.]]\n",
      "\n",
      " [[0. 0. 1.]\n",
      "  [1. 0. 0.]\n",
      "  [0. 0. 1.]\n",
      "  [0. 1. 0.]\n",
      "  [1. 0. 0.]\n",
      "  [0. 0. 1.]\n",
      "  [1. 0. 0.]]\n",
      "\n",
      " [[1. 0. 0.]\n",
      "  [0. 1. 0.]\n",
      "  [0. 0. 1.]\n",
      "  [0. 1. 0.]\n",
      "  [0. 0. 1.]\n",
      "  [0. 0. 1.]\n",
      "  [1. 0. 0.]]]\n"
     ]
    }
   ],
   "source": [
    "#3層目で用いる特徴量選択行列とルール結合行列を作成する\n",
    "features_selection_matrix_layer3 = np.empty((NUMBER_OF_FUZZY_RULE, NUMBER_OF_INPUT_LAYER3))\n",
    "for i in range(NUMBER_OF_FUZZY_RULE):\n",
    "    while True:\n",
    "        for j in range(NUMBER_OF_INPUT_LAYER3-1):\n",
    "            if random.random() < 0.5:\n",
    "                features_selection_matrix_layer3[i,j] = 0\n",
    "            else:\n",
    "                features_selection_matrix_layer3[i,j] = 1\n",
    "        if 1 in features_selection_matrix_layer3[i,:]:\n",
    "            break\n",
    "#さらにここで2層目の特徴量には必ず1層目の出力を用いる\n",
    "features_selection_matrix_layer3[:, NUMBER_OF_INPUT_LAYER3-1] = 1\n",
    "#次にルール結合行列を設定する\n",
    "rule_combination_matrix_layer3 = np.zeros((NUMBER_OF_FUZZY_RULE, NUMBER_OF_INPUT_LAYER3, NUMBER_OF_FUZZY_PARTITION))\n",
    "rule_partition_random = [1, 2, 3]\n",
    "for i in range(NUMBER_OF_FUZZY_RULE):\n",
    "    for j in range(NUMBER_OF_INPUT_LAYER3):\n",
    "        if (random.choice(rule_partition_random) == 1):\n",
    "            rule_combination_matrix_layer3[i,j,0] = 1\n",
    "        elif(random.choice(rule_partition_random) == 2):\n",
    "            rule_combination_matrix_layer3[i,j,1] = 1\n",
    "        else:\n",
    "            rule_combination_matrix_layer3[i,j,2] = 1\n",
    "print(features_selection_matrix_layer3)\n",
    "print(rule_combination_matrix_layer3)"
   ]
  },
  {
   "cell_type": "code",
   "execution_count": 821,
   "id": "4bf78534-3c99-4868-a28a-66dbe65d38f7",
   "metadata": {
    "collapsed": true,
    "jupyter": {
     "outputs_hidden": true
    },
    "tags": []
   },
   "outputs": [
    {
     "data": {
      "text/plain": [
       "array([[0. , 0. , 0. , 1. , 1. , 0. , 1. ],\n",
       "       [1. , 0. , 1. , 1. , 0. , 1. , 0.5],\n",
       "       [0. , 1. , 1. , 0. , 1. , 1. , 0. ],\n",
       "       [1. , 0.5, 1. , 0. , 1. , 0. , 1. ],\n",
       "       [1. , 0. , 0.5, 1. , 0. , 0.5, 1. ],\n",
       "       [0.5, 1. , 0. , 1. , 0. , 1. , 0.5],\n",
       "       [1. , 0. , 1. , 0.5, 0. , 1. , 0. ],\n",
       "       [0. , 0.5, 1. , 0.5, 1. , 1. , 0. ]])"
      ]
     },
     "execution_count": 821,
     "metadata": {},
     "output_type": "execute_result"
    }
   ],
   "source": [
    "#3層目で用いる前件部と後件部の値を設定する\n",
    "antecedent_center_layer3 = np.empty((NUMBER_OF_FUZZY_RULE, NUMBER_OF_INPUT_LAYER3))\n",
    "antecedent_broad_layer3 = np.empty((NUMBER_OF_FUZZY_RULE, NUMBER_OF_INPUT_LAYER3))\n",
    "consequent_layer3 = np.empty(NUMBER_OF_FUZZY_RULE)\n",
    "\n",
    "#まずは後件部実数値の初期設定を行う\n",
    "#このプログラムでは後件部は0次式で表している\n",
    "for i in range(NUMBER_OF_FUZZY_RULE):\n",
    "    consequent_layer3[i] = 0.5\n",
    "#前件部を初期設定する\n",
    "for i in range(NUMBER_OF_FUZZY_RULE):\n",
    "    for j in range(NUMBER_OF_INPUT_LAYER3):\n",
    "        if rule_combination_matrix_layer3[i,j,0] == 1:\n",
    "            antecedent_center_layer3[i,j] = 0\n",
    "            antecedent_broad_layer3[i,j] = 1\n",
    "        elif rule_combination_matrix_layer3[i,j,1] == 1:\n",
    "            antecedent_center_layer3[i,j] = 0.5\n",
    "            antecedent_broad_layer3[i,j] = 0.5\n",
    "        else:\n",
    "            antecedent_center_layer3[i,j] = 1\n",
    "            antecedent_broad_layer3[i,j] = 1\n",
    "antecedent_center_layer3"
   ]
  },
  {
   "cell_type": "code",
   "execution_count": 822,
   "id": "a535e022-f6bc-4805-bad9-8657cac9b123",
   "metadata": {
    "collapsed": true,
    "jupyter": {
     "outputs_hidden": true
    },
    "tags": []
   },
   "outputs": [
    {
     "name": "stdout",
     "output_type": "stream",
     "text": [
      "平均二条誤差\n",
      "0.1319718991614914\n",
      "Wall time: 2.99 s\n"
     ]
    }
   ],
   "source": [
    "%%time\n",
    "#3層目の学習を行う\n",
    "#平均二条誤差を設定する\n",
    "mean_squared_error_layer3 = 0\n",
    "\n",
    "#適合度・メンバシップ関数値を初期化する\n",
    "adaptability = np.ones((TEACHER_SIZE, NUMBER_OF_FUZZY_RULE))\n",
    "membership_function = np.ones((TEACHER_SIZE, NUMBER_OF_FUZZY_RULE, NUMBER_OF_INPUT_LAYER3))\n",
    "\n",
    "for i in range(TEACHER_SIZE):\n",
    "    for j in range(NUMBER_OF_FUZZY_RULE):\n",
    "        for k in range(NUMBER_OF_INPUT_LAYER3):\n",
    "            if(teacher_input_layer3[i,k] >= antecedent_center_layer3[j,k] - antecedent_broad_layer3[j,k]) and (teacher_input_layer3[i,k] <= antecedent_center_layer3[j,k]) and (features_selection_matrix_layer3[j,k] == 1):\n",
    "                membership_function[i,j,k] = (teacher_input_layer3[i,k] - (antecedent_center_layer3[j,k] - antecedent_broad_layer3[j,k])) / antecedent_broad_layer3[j,k]\n",
    "            elif(teacher_input_layer3[i,k] > antecedent_center_layer3[j,k]) and (teacher_input_layer3[i,k] <= antecedent_center_layer3[j,k] + antecedent_broad_layer3[j,k]) and (features_selection_matrix_layer3[j,k] == 1):\n",
    "                membership_function[i,j,k] = -(teacher_input_layer3[i,k] - (antecedent_center_layer3[j,k] + antecedent_broad_layer3[j,k])) / antecedent_broad_layer3[j,k]\n",
    "        for k in range(NUMBER_OF_INPUT_LAYER3):\n",
    "            adaptability[i,j] = adaptability[i,j] * membership_function[i,j,k]\n",
    "for time in range(TRAIN_TIME):\n",
    "    #各データの予測結果を格納する\n",
    "    output_layer3 = np.empty(TEACHER_SIZE)\n",
    "    for i in range(TEACHER_SIZE):\n",
    "        #各データの予測結果を求める\n",
    "        output_layer3[i] = np.sum(np.dot(adaptability[i], consequent_layer3)) / np.sum(adaptability[i])\n",
    "        if(time == TRAIN_TIME - 1):\n",
    "            mean_squared_error_layer3 = mean_squared_error_layer3 + (output_layer3[i] - teacher_output_layer3[i]) ** 2\n",
    "            if(i == TEACHER_SIZE - 1):\n",
    "                mean_squared_error_layer3 = mean_squared_error_layer3 / TEACHER_SIZE\n",
    "                print('平均二条誤差')\n",
    "                print(mean_squared_error_layer3)\n",
    "        #出力を求めた後、後件部を更新する\n",
    "        for j in range(NUMBER_OF_FUZZY_RULE):\n",
    "            consequent_layer3[j] = consequent_layer3[j] + (LEARNING_CONSEQUENT * adaptability[i,j] / np.sum(adaptability[i])) * (teacher_output_layer3[i] - output_layer3[i])"
   ]
  },
  {
   "cell_type": "code",
   "execution_count": 823,
   "id": "c22f48d1-0d75-4439-895b-d48e3768b433",
   "metadata": {
    "collapsed": true,
    "jupyter": {
     "outputs_hidden": true
    },
    "tags": []
   },
   "outputs": [
    {
     "name": "stdout",
     "output_type": "stream",
     "text": [
      "平均二条誤差\n",
      "0.12759237880504248\n",
      "Wall time: 6.98 ms\n"
     ]
    }
   ],
   "source": [
    "%%time\n",
    "#1層目のテストを行う\n",
    "#まず1層目におけるテストデータの作成を行う\n",
    "test_input_layer1 = np_original_data[TEACHER_SIZE:, :NUMBER_OF_INPUT]\n",
    "test_output_layer1 = np_original_data[TEACHER_SIZE:, NUMBER_OF_INPUT]\n",
    "\n",
    "#平均二条誤差を設定する\n",
    "test_mean_squared_error_layer1 = 0\n",
    "\n",
    "#適合度・メンバシップ関数値を初期化する\n",
    "test_adaptability = np.ones((TEST_SIZE, NUMBER_OF_FUZZY_RULE))\n",
    "test_membership_function = np.ones((TEST_SIZE, NUMBER_OF_FUZZY_RULE, NUMBER_OF_INPUT_LAYER1))\n",
    "\n",
    "for i in range(TEST_SIZE):\n",
    "    for j in range(NUMBER_OF_FUZZY_RULE):\n",
    "        for k in range(NUMBER_OF_INPUT_LAYER1):\n",
    "            if(test_input_layer1[i,k] >= antecedent_center_layer1[j,k] - antecedent_broad_layer1[j,k]) and (test_input_layer1[i,k] <= antecedent_center_layer1[j,k]) and (features_selection_matrix_layer1[j,k] == 1):\n",
    "                test_membership_function[i,j,k] = (test_input_layer1[i,k] - (antecedent_center_layer1[j,k] - antecedent_broad_layer1[j,k])) / antecedent_broad_layer1[j,k]\n",
    "            elif(test_input_layer1[i,k] > antecedent_center_layer1[j,k]) and (test_input_layer1[i,k] <= antecedent_center_layer1[j,k] + antecedent_broad_layer1[j,k]) and (features_selection_matrix_layer1[j,k] == 1):\n",
    "                test_membership_function[i,j,k] = -(test_input_layer1[i,k] - (antecedent_center_layer1[j,k] + antecedent_broad_layer1[j,k])) / antecedent_broad_layer1[j,k]\n",
    "        for k in range(NUMBER_OF_INPUT_LAYER1):\n",
    "            test_adaptability[i,j] = test_adaptability[i,j] * test_membership_function[i,j,k]\n",
    "#各データの予測結果を格納する\n",
    "output_layer1 = np.empty(TEST_SIZE)\n",
    "for i in range(TEST_SIZE):\n",
    "    #各データの予測結果を求める\n",
    "    output_layer1[i] = np.sum(np.dot(test_adaptability[i], consequent_layer1)) / np.sum(test_adaptability[i])\n",
    "    test_mean_squared_error_layer1 = test_mean_squared_error_layer1 + (output_layer1[i] - test_output_layer1[i]) ** 2\n",
    "    if(i == TEST_SIZE - 1):\n",
    "        test_mean_squared_error_layer1 = test_mean_squared_error_layer1 / TEST_SIZE\n",
    "        print('平均二条誤差')\n",
    "        print(test_mean_squared_error_layer1)"
   ]
  },
  {
   "cell_type": "code",
   "execution_count": 824,
   "id": "beecd80b-4060-4a4b-8666-efcd5102f544",
   "metadata": {
    "collapsed": true,
    "jupyter": {
     "outputs_hidden": true
    },
    "tags": []
   },
   "outputs": [
    {
     "name": "stdout",
     "output_type": "stream",
     "text": [
      "平均二条誤差\n",
      "0.18043948211469768\n",
      "Wall time: 12 ms\n"
     ]
    }
   ],
   "source": [
    "%%time\n",
    "#2層目のテストを行う\n",
    "#まず2層目におけるテストデータを作成する\n",
    "test_input_layer2 = np.insert(test_input_layer1, NUMBER_OF_INPUT, output_layer1, axis=1)\n",
    "test_output_layer2 = np.array(test_output_layer1)\n",
    "\n",
    "#平均二条誤差を設定する\n",
    "test_mean_squared_error_layer2 = 0\n",
    "\n",
    "#適合度・メンバシップ関数値を初期化する\n",
    "test_adaptability = np.ones((TEST_SIZE, NUMBER_OF_FUZZY_RULE))\n",
    "test_membership_function = np.ones((TEST_SIZE, NUMBER_OF_FUZZY_RULE, NUMBER_OF_INPUT_LAYER2))\n",
    "\n",
    "for i in range(TEST_SIZE):\n",
    "    for j in range(NUMBER_OF_FUZZY_RULE):\n",
    "        for k in range(NUMBER_OF_INPUT_LAYER2):\n",
    "            if(test_input_layer2[i,k] >= antecedent_center_layer2[j,k] - antecedent_broad_layer2[j,k]) and (test_input_layer2[i,k] <= antecedent_center_layer2[j,k]) and (features_selection_matrix_layer2[j,k] == 1):\n",
    "                test_membership_function[i,j,k] = (test_input_layer2[i,k] - (antecedent_center_layer2[j,k] - antecedent_broad_layer2[j,k])) / antecedent_broad_layer2[j,k]\n",
    "            elif(test_input_layer2[i,k] > antecedent_center_layer2[j,k]) and (test_input_layer2[i,k] <= antecedent_center_layer2[j,k] + antecedent_broad_layer2[j,k]) and (features_selection_matrix_layer2[j,k] == 1):\n",
    "                test_membership_function[i,j,k] = -(test_input_layer2[i,k] - (antecedent_center_layer2[j,k] + antecedent_broad_layer2[j,k])) / antecedent_broad_layer2[j,k]\n",
    "        for k in range(NUMBER_OF_INPUT_LAYER2):\n",
    "            test_adaptability[i,j] = test_adaptability[i,j] * test_membership_function[i,j,k]\n",
    "#各データの予測結果を格納する\n",
    "output_layer2 = np.empty(TEST_SIZE)\n",
    "for i in range(TEST_SIZE):\n",
    "    #各データの予測結果を求める\n",
    "    output_layer2[i] = np.sum(np.dot(test_adaptability[i], consequent_layer2)) / np.sum(test_adaptability[i])\n",
    "    test_mean_squared_error_layer2 = test_mean_squared_error_layer2 + (output_layer2[i] - test_output_layer2[i]) ** 2\n",
    "    if(i == TEST_SIZE - 1):\n",
    "        test_mean_squared_error_layer2 = test_mean_squared_error_layer2 / TEST_SIZE\n",
    "        print('平均二条誤差')\n",
    "        print(test_mean_squared_error_layer2)"
   ]
  },
  {
   "cell_type": "code",
   "execution_count": 825,
   "id": "77228a2f-d1b3-455b-94e4-bc1fffec78ab",
   "metadata": {
    "collapsed": true,
    "jupyter": {
     "outputs_hidden": true
    },
    "tags": []
   },
   "outputs": [
    {
     "name": "stdout",
     "output_type": "stream",
     "text": [
      "平均二条誤差\n",
      "0.17617541182486224\n",
      "Wall time: 13 ms\n"
     ]
    }
   ],
   "source": [
    "%%time\n",
    "#3層目のテストを行う\n",
    "#まず3層目におけるテストデータを作成する\n",
    "test_input_layer3 = np.insert(test_input_layer2, NUMBER_OF_INPUT, output_layer2, axis=1)\n",
    "test_output_layer3 = np.array(test_output_layer2)\n",
    "\n",
    "#平均二条誤差を設定する\n",
    "test_mean_squared_error_layer3 = 0\n",
    "\n",
    "#適合度・メンバシップ関数値を初期化する\n",
    "test_adaptability = np.ones((TEST_SIZE, NUMBER_OF_FUZZY_RULE))\n",
    "test_membership_function = np.ones((TEST_SIZE, NUMBER_OF_FUZZY_RULE, NUMBER_OF_INPUT_LAYER3))\n",
    "\n",
    "for i in range(TEST_SIZE):\n",
    "    for j in range(NUMBER_OF_FUZZY_RULE):\n",
    "        for k in range(NUMBER_OF_INPUT_LAYER3):\n",
    "            if(test_input_layer3[i,k] >= antecedent_center_layer3[j,k] - antecedent_broad_layer3[j,k]) and (test_input_layer3[i,k] <= antecedent_center_layer3[j,k]) and (features_selection_matrix_layer3[j,k] == 1):\n",
    "                test_membership_function[i,j,k] = (test_input_layer3[i,k] - (antecedent_center_layer3[j,k] - antecedent_broad_layer3[j,k])) / antecedent_broad_layer3[j,k]\n",
    "            elif(test_input_layer3[i,k] > antecedent_center_layer3[j,k]) and (test_input_layer3[i,k] <= antecedent_center_layer3[j,k] + antecedent_broad_layer3[j,k]) and (features_selection_matrix_layer3[j,k] == 1):\n",
    "                test_membership_function[i,j,k] = -(test_input_layer3[i,k] - (antecedent_center_layer3[j,k] + antecedent_broad_layer3[j,k])) / antecedent_broad_layer3[j,k]\n",
    "        for k in range(NUMBER_OF_INPUT_LAYER3):\n",
    "            test_adaptability[i,j] = test_adaptability[i,j] * test_membership_function[i,j,k]\n",
    "#各データの予測結果を格納する\n",
    "output_layer3 = np.empty(TEST_SIZE)\n",
    "for i in range(TEST_SIZE):\n",
    "    #各データの予測結果を求める\n",
    "    output_layer3[i] = np.sum(np.dot(test_adaptability[i], consequent_layer3)) / np.sum(test_adaptability[i])\n",
    "    test_mean_squared_error_layer3 = test_mean_squared_error_layer3 + (output_layer3[i] - test_output_layer3[i]) ** 2\n",
    "    if(i == TEST_SIZE - 1):\n",
    "        test_mean_squared_error_layer3 = test_mean_squared_error_layer3 / TEST_SIZE\n",
    "        print('平均二条誤差')\n",
    "        print(test_mean_squared_error_layer3)"
   ]
  },
  {
   "cell_type": "code",
   "execution_count": null,
   "id": "c8b8347f-4580-447e-8e77-fc2e846eaf85",
   "metadata": {},
   "outputs": [],
   "source": []
  }
 ],
 "metadata": {
  "kernelspec": {
   "display_name": "Python 3 (ipykernel)",
   "language": "python",
   "name": "python3"
  },
  "language_info": {
   "codemirror_mode": {
    "name": "ipython",
    "version": 3
   },
   "file_extension": ".py",
   "mimetype": "text/x-python",
   "name": "python",
   "nbconvert_exporter": "python",
   "pygments_lexer": "ipython3",
   "version": "3.9.13"
  }
 },
 "nbformat": 4,
 "nbformat_minor": 5
}
